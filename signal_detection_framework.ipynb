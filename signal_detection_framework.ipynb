{
  "nbformat": 4,
  "nbformat_minor": 0,
  "metadata": {
    "colab": {
      "name": "signal_detection_framework",
      "provenance": [],
      "collapsed_sections": [],
      "machine_shape": "hm"
    },
    "kernelspec": {
      "name": "python3",
      "display_name": "Python 3"
    },
    "accelerator": "GPU"
  },
  "cells": [
    {
      "cell_type": "markdown",
      "metadata": {
        "id": "uQCnYPVDrsgx",
        "colab_type": "text"
      },
      "source": [
        "#Signal Detection Framework"
      ]
    },
    {
      "cell_type": "markdown",
      "metadata": {
        "id": "w4V-XE6kbkc1",
        "colab_type": "text"
      },
      "source": [
        "## Clone the repository."
      ]
    },
    {
      "cell_type": "code",
      "metadata": {
        "id": "dxc3DmvLQF3z",
        "colab_type": "code",
        "outputId": "9c92f6bf-9f33-489c-f9c9-dde17d06569b",
        "colab": {
          "base_uri": "https://localhost:8080/",
          "height": 252
        }
      },
      "source": [
        "import os\n",
        "\n",
        "%cd /content\n",
        "\n",
        "# If you forked the repository, you can replace the link.\n",
        "repo_url = 'https://github.com/shaheer1995/signal_detection'\n",
        "\n",
        "repo_dir_path = os.path.abspath(os.path.join('.', os.path.basename(repo_url)))\n",
        "\n",
        "!git clone {repo_url}\n",
        "%cd {repo_dir_path}\n",
        "!git pull"
      ],
      "execution_count": 0,
      "outputs": [
        {
          "output_type": "stream",
          "text": [
            "/content\n",
            "fatal: destination path 'signal_detection' already exists and is not an empty directory.\n",
            "/content/signal_detection\n",
            "remote: Enumerating objects: 5, done.\u001b[K\n",
            "remote: Counting objects: 100% (5/5), done.\u001b[K\n",
            "remote: Compressing objects: 100% (1/1), done.\u001b[K\n",
            "remote: Total 3 (delta 2), reused 3 (delta 2), pack-reused 0\u001b[K\n",
            "Unpacking objects: 100% (3/3), done.\n",
            "From https://github.com/shaheer1995/signal_detection\n",
            "   e1f1cf7..66467a8  master     -> origin/master\n",
            "Updating e1f1cf7..66467a8\n",
            "Fast-forward\n",
            " signal_detection_framework.ipynb | 192 \u001b[32m+++++++++++++\u001b[m\u001b[31m--------------------------\u001b[m\n",
            " 1 file changed, 65 insertions(+), 127 deletions(-)\n"
          ],
          "name": "stdout"
        }
      ]
    },
    {
      "cell_type": "markdown",
      "metadata": {
        "id": "bI8__uNS8-ns",
        "colab_type": "text"
      },
      "source": [
        "## Install required packages and set up the environment"
      ]
    },
    {
      "cell_type": "code",
      "metadata": {
        "id": "ecpHEnka8Kix",
        "colab_type": "code",
        "outputId": "9514e0f4-f870-4f3e-e54d-71926e49057c",
        "colab": {
          "base_uri": "https://localhost:8080/",
          "height": 168
        }
      },
      "source": [
        "%cd /content\n",
        "\n",
        "!apt-get install -qq protobuf-compiler python-pil python-lxml python-tk\n",
        "\n",
        "!pip install -q Cython contextlib2 pillow lxml matplotlib\n",
        "\n",
        "!pip install -q pycocotools\n",
        "\n",
        "!sudo apt install tesseract-ocr\n",
        "!pip install pytesseract\n",
        "\n",
        "%tensorflow_version 1.x\n",
        "import tensorflow as tf"
      ],
      "execution_count": 0,
      "outputs": [
        {
          "output_type": "stream",
          "text": [
            "/content\n",
            "Reading package lists... Done\n",
            "Building dependency tree       \n",
            "Reading state information... Done\n",
            "tesseract-ocr is already the newest version (4.00~git2288-10f4998a-2).\n",
            "0 upgraded, 0 newly installed, 0 to remove and 25 not upgraded.\n",
            "Requirement already satisfied: pytesseract in /usr/local/lib/python3.6/dist-packages (0.3.3)\n",
            "Requirement already satisfied: Pillow in /usr/local/lib/python3.6/dist-packages (from pytesseract) (7.0.0)\n",
            "TensorFlow is already loaded. Please restart the runtime to change versions.\n"
          ],
          "name": "stdout"
        }
      ]
    },
    {
      "cell_type": "code",
      "metadata": {
        "id": "8_ZrVuC8up2w",
        "colab_type": "code",
        "outputId": "dab4c972-962b-4e57-9953-45c16e96caaa",
        "colab": {
          "base_uri": "https://localhost:8080/",
          "height": 34
        }
      },
      "source": [
        "%cd /content/signal_detection/\n",
        "import wabtec_track\n",
        "from utils import label_map_util\n",
        "from utils import ops as utils_ops"
      ],
      "execution_count": 0,
      "outputs": [
        {
          "output_type": "stream",
          "text": [
            "/content/signal_detection\n"
          ],
          "name": "stdout"
        }
      ]
    },
    {
      "cell_type": "code",
      "metadata": {
        "id": "tgd-fzAIkZlV",
        "colab_type": "code",
        "colab": {}
      },
      "source": [
        "test_record_fname = '/content/signal_detection/data/annotations/test.record'\n",
        "train_record_fname = '/content/signal_detection/data/annotations/train.record'\n",
        "label_map_pbtxt_fname = '/content/signal_detection/data/annotations/label_map.pbtxt'"
      ],
      "execution_count": 0,
      "outputs": []
    },
    {
      "cell_type": "code",
      "metadata": {
        "id": "EX4Lr342yqjv",
        "colab_type": "code",
        "colab": {}
      },
      "source": [
        "def get_num_classes(pbtxt_fname):\n",
        "    from utils import label_map_util\n",
        "    label_map = label_map_util.load_labelmap(pbtxt_fname)\n",
        "    categories = label_map_util.convert_label_map_to_categories(\n",
        "        label_map, max_num_classes=90, use_display_name=True)\n",
        "    category_index = label_map_util.create_category_index(categories)\n",
        "    return len(category_index.keys())\n",
        "\n",
        "num_classes = get_num_classes(label_map_pbtxt_fname)"
      ],
      "execution_count": 0,
      "outputs": []
    },
    {
      "cell_type": "code",
      "metadata": {
        "id": "xxzFXWU8kFXq",
        "colab_type": "code",
        "colab": {}
      },
      "source": [
        "import re\n",
        "import numpy as np\n",
        "\n",
        "output_directory = '/content/signal_detection/data/fine_tuned_model'"
      ],
      "execution_count": 0,
      "outputs": []
    },
    {
      "cell_type": "code",
      "metadata": {
        "id": "CnDo1lonKgFr",
        "colab_type": "code",
        "colab": {}
      },
      "source": [
        "import os\n",
        "\n",
        "pb_fname = os.path.join(os.path.abspath(output_directory), \"frozen_inference_graph.pb\")\n",
        "assert os.path.isfile(pb_fname), '`{}` not exist'.format(pb_fname)"
      ],
      "execution_count": 0,
      "outputs": []
    },
    {
      "cell_type": "markdown",
      "metadata": {
        "id": "OyeNxtpM2mSE",
        "colab_type": "text"
      },
      "source": [
        "#Run the Inference Test"
      ]
    },
    {
      "cell_type": "code",
      "metadata": {
        "id": "CG5YUMdg1Po7",
        "colab_type": "code",
        "outputId": "a90a19ed-ff09-4435-f430-f4bbca104fea",
        "colab": {
          "base_uri": "https://localhost:8080/",
          "height": 958
        }
      },
      "source": [
        "import os\n",
        "import glob\n",
        "import numpy as np\n",
        "import os\n",
        "import six.moves.urllib as urllib\n",
        "import sys\n",
        "import tarfile\n",
        "import tensorflow as tf\n",
        "import pytesseract\n",
        "from pytesseract import Output\n",
        "import shutil\n",
        "import cv2\n",
        "import zipfile\n",
        "import pandas as pd\n",
        "import wabtec_track\n",
        "\n",
        "from collections import defaultdict\n",
        "from io import StringIO\n",
        "from matplotlib import pyplot as plt\n",
        "from PIL import Image\n",
        "from google.colab import files\n",
        "# This is needed since the notebook is stored in the object_detection folder.\n",
        "sys.path.append(\"..\")\n",
        "\n",
        "%matplotlib inline\n",
        "\n",
        "# Path to frozen detection graph. This is the actual model that is used for the object detection.\n",
        "PATH_TO_CKPT = pb_fname\n",
        "\n",
        "# List of the strings that is used to add correct label for each box.\n",
        "PATH_TO_LABELS = label_map_pbtxt_fname\n",
        "\n",
        "# If you want to test the code with your images, just add images files to the PATH_TO_TEST_IMAGES_DIR.\n",
        "PATH_TO_TEST_IMAGES_DIR =  os.path.join(\"/content/signal_detection\", \"test\")\n",
        "\n",
        "assert os.path.isfile(pb_fname)\n",
        "assert os.path.isfile(PATH_TO_LABELS)\n",
        "TEST_IMAGE_PATHS = glob.glob(os.path.join(PATH_TO_TEST_IMAGES_DIR, \"*.*\"))\n",
        "assert len(TEST_IMAGE_PATHS) > 0, 'No image found in `{}`.'.format(PATH_TO_TEST_IMAGES_DIR)\n",
        "print(TEST_IMAGE_PATHS)\n",
        "\n",
        "'''\n",
        "  To Visualize Initiate the following array\n",
        "  Array Order [\"Switch\",\"Track\",\"Left signal\",\"Right Signal\", \"all\"]\n",
        "  Ex: If you want bounding boxes only on switches and Tracks\n",
        "      array should be [1,1,0,0]\n",
        "'''\n",
        "visualize = [1,1,1,1,0]\n",
        "\n",
        "detection_graph = tf.Graph()\n",
        "with detection_graph.as_default():\n",
        "    od_graph_def = tf.GraphDef()\n",
        "    with tf.gfile.GFile(PATH_TO_CKPT, 'rb') as fid:\n",
        "        serialized_graph = fid.read()\n",
        "        od_graph_def.ParseFromString(serialized_graph)\n",
        "        tf.import_graph_def(od_graph_def, name='')\n",
        "\n",
        "\n",
        "label_map = label_map_util.load_labelmap(PATH_TO_LABELS)\n",
        "categories = label_map_util.convert_label_map_to_categories(\n",
        "    label_map, max_num_classes=num_classes, use_display_name=True)\n",
        "category_index = label_map_util.create_category_index(categories)\n",
        "\n",
        "s_id = []\n",
        "milepost = []\n",
        "s_type = []\n",
        "\n",
        "def load_image_into_numpy_array(image):\n",
        "    (im_width, im_height) = image.size\n",
        "    return np.array(image.getdata()).reshape(\n",
        "        (im_height, im_width, 3)).astype(np.uint8)\n",
        "\n",
        "# Size, in inches, of the output images.\n",
        "IMAGE_SIZE = (12, 8)\n",
        "\n",
        "#thresholding\n",
        "def thresholding(image):\n",
        "    return cv2.threshold(image, 60, 255, cv2.THRESH_BINARY)\n",
        "\n",
        "# get grayscale image\n",
        "def get_grayscale(image):\n",
        "    return cv2.cvtColor(image, cv2.COLOR_BGR2GRAY)\n",
        "\n",
        "# preprocessing\n",
        "def switch_preprocess(crop_image):\n",
        "  kernel = np.ones((3,3),np.uint8)\n",
        "  gray = cv2.cvtColor(crop_img,cv2.COLOR_BGR2GRAY)\n",
        "  (thresh, gray) = cv2.threshold(gray, 40, 255, cv2.THRESH_BINARY | cv2.THRESH_OTSU)\n",
        "  inverse = cv2.bitwise_not(gray)\n",
        "  closed = cv2.morphologyEx(inverse, cv2.MORPH_CLOSE, kernel)\n",
        "  #dilation = cv2.dilate(inverse,kernel,iterations = 1)\n",
        "  dil_inv = cv2.bitwise_not(closed)\n",
        "  opened = cv2.morphologyEx(dil_inv, cv2.MORPH_OPEN, kernel)\n",
        "  #opened = cv2.dilate(thresh, kernel, iterations = 1)\n",
        "  custom_config = r'--oem 3 --psm 6'\n",
        "  img = Image.fromarray(opened)\n",
        "  sid = pytesseract.image_to_string(img, config=custom_config)\n",
        "  return sid\n",
        "\n",
        "def milestone_preprocess(crop_image):\n",
        "  gray = cv2.cvtColor(r_img,cv2.COLOR_RGB2GRAY)\n",
        "  kernel = np.ones((3,3),np.uint8)\n",
        "  im = np.array(gray * 255, dtype = np.uint8)\n",
        "  (thresh, gray) = cv2.threshold(gray, 40, 255, cv2.THRESH_BINARY | cv2.THRESH_OTSU)\n",
        "  #opened = cv2.dilate(thresh, kernel, iterations = 1)\n",
        "  custom_config = r'--oem 3 --psm 6'\n",
        "  img = Image.fromarray(gray)\n",
        "  milestone_id = pytesseract.image_to_string(img, config=custom_config)\n",
        "  #print(pytesseract.image_to_string(img, config=custom_config))\n",
        "  return milestone_id\n",
        "\n",
        "#Draw Bounding boxes\n",
        "def drawBoundingBoxes(xmin,ymin,xmax,ymax,r,g,b,t):\n",
        "  x1,y1,x2,y2 = np.int64(xmin * im_width), np.int64(ymin * im_height), np.int64(xmax * im_width), np.int64(ymax * im_height)\n",
        "  cv2.rectangle(image_np, (x1, y1), (x2, y2), (r, g, b), t)\n",
        "\n",
        "#Rn Inference on single image\n",
        "def run_inference_for_single_image(image, graph):\n",
        "    with graph.as_default():\n",
        "        with tf.Session() as sess:\n",
        "            # Get handles to input and output tensors\n",
        "            ops = tf.get_default_graph().get_operations()\n",
        "            all_tensor_names = {\n",
        "                output.name for op in ops for output in op.outputs}\n",
        "            tensor_dict = {}\n",
        "            for key in [\n",
        "                'num_detections', 'detection_boxes', 'detection_scores',\n",
        "                'detection_classes', 'detection_masks'\n",
        "            ]:\n",
        "                tensor_name = key + ':0'\n",
        "                if tensor_name in all_tensor_names:\n",
        "                    tensor_dict[key] = tf.get_default_graph().get_tensor_by_name(\n",
        "                        tensor_name)\n",
        "            if 'detection_masks' in tensor_dict:\n",
        "                # The following processing is only for single image\n",
        "                detection_boxes = tf.squeeze(\n",
        "                    tensor_dict['detection_boxes'], [0])\n",
        "                detection_masks = tf.squeeze(\n",
        "                    tensor_dict['detection_masks'], [0])\n",
        "                # Reframe is required to translate mask from box coordinates to image coordinates and fit the image size.\n",
        "                real_num_detection = tf.cast(\n",
        "                    tensor_dict['num_detections'][0], tf.int32)\n",
        "                detection_boxes = tf.slice(detection_boxes, [0, 0], [\n",
        "                                           real_num_detection, -1])\n",
        "                detection_masks = tf.slice(detection_masks, [0, 0, 0], [\n",
        "                                           real_num_detection, -1, -1])\n",
        "                detection_masks_reframed = utils_ops.reframe_box_masks_to_image_masks(\n",
        "                    detection_masks, detection_boxes, image.shape[0], image.shape[1])\n",
        "                detection_masks_reframed = tf.cast(\n",
        "                    tf.greater(detection_masks_reframed, 0.5), tf.uint8)\n",
        "                # Follow the convention by adding back the batch dimension\n",
        "                tensor_dict['detection_masks'] = tf.expand_dims(\n",
        "                    detection_masks_reframed, 0)\n",
        "            image_tensor = tf.get_default_graph().get_tensor_by_name('image_tensor:0')\n",
        "\n",
        "            # Run inference\n",
        "            output_dict = sess.run(tensor_dict,\n",
        "                                   feed_dict={image_tensor: np.expand_dims(image, 0)})\n",
        "\n",
        "            # all outputs are float32 numpy arrays, so convert types as appropriate\n",
        "            output_dict['num_detections'] = int(\n",
        "                output_dict['num_detections'][0])\n",
        "            output_dict['detection_classes'] = output_dict[\n",
        "                'detection_classes'][0].astype(np.uint8)\n",
        "            output_dict['detection_boxes'] = output_dict['detection_boxes'][0]\n",
        "            output_dict['detection_scores'] = output_dict['detection_scores'][0]\n",
        "            if 'detection_masks' in output_dict:\n",
        "                output_dict['detection_masks'] = output_dict['detection_masks'][0]\n",
        "    return output_dict\n",
        "\n",
        "for image_path in TEST_IMAGE_PATHS:\n",
        "    image = Image.open(image_path)\n",
        "    # the array based representation of the image will be used later in order to prepare the\n",
        "    # result image with boxes and labels on it.\n",
        "    image_np = load_image_into_numpy_array(image)\n",
        "    #Image to crop labels\n",
        "    image_to_crop = load_image_into_numpy_array(image)\n",
        "    # Expand dimensions since the model expects images to have shape: [1, None, None, 3]\n",
        "    image_np_expanded = np.expand_dims(image_np, axis=0)\n",
        "    # Actual detection.\n",
        "    output_dict = run_inference_for_single_image(image_np, detection_graph)\n",
        "    # Visualization of the results of a detection.4\n",
        "\n",
        "    #Obtaining detection boxes, classes and detection scores\n",
        "    boxes = np.squeeze(output_dict['detection_boxes'])\n",
        "    scores = np.squeeze(output_dict['detection_scores'])\n",
        "    classes = np.squeeze(output_dict['detection_classes'])\n",
        "    #set a min thresh score\n",
        "    ########\n",
        "    min_score_thresh = 0.25\n",
        "    ########\n",
        "    #Filtering the bounding boxes\n",
        "    bboxes = boxes[scores > min_score_thresh]\n",
        "    d_classes = classes[scores > min_score_thresh]\n",
        "    switch_boxes = bboxes[d_classes == 4]\n",
        "    milepost_boxes = bboxes[d_classes == 2]\n",
        "    left_signal_boxes = bboxes[d_classes == 1]\n",
        "    right_signal_boxes = bboxes[d_classes == 3]\n",
        "\n",
        "    #get image size\n",
        "    im_width, im_height = image.size\n",
        "\n",
        "    final_box = []\n",
        "    for box in bboxes:\n",
        "        ymin, xmin, ymax, xmax = box\n",
        "        final_box.append([xmin * im_width, xmax * im_width, ymin * im_height, ymax * im_height])\n",
        "    #print(final_box)\n",
        "\n",
        "    if(visualize[0] == 1 or visualize[4] == 1):\n",
        "      sw_box = []\n",
        "      for box in switch_boxes:\n",
        "          ymin, xmin, ymax, xmax = box\n",
        "          sw_box.append([xmin * im_width, xmax * im_width, ymin * im_height, ymax * im_height])\n",
        "          drawBoundingBoxes(xmin,ymin,xmax,ymax,256,100,25,2)\n",
        "\n",
        "    if(visualize[2] == 1 or visualize[4] == 1):\n",
        "      ls_box = []\n",
        "      for box in left_signal_boxes:\n",
        "          ymin, xmin, ymax, xmax = box\n",
        "          ls_box.append([xmin * im_width, xmax * im_width, ymin * im_height, ymax * im_height])\n",
        "          drawBoundingBoxes(xmin,ymin,xmax,ymax,0,255,255,2)\n",
        "\n",
        "    if(visualize[2] == 1 or visualize[4] == 1):\n",
        "      rs_box = []\n",
        "      for box in right_signal_boxes:\n",
        "          ymin, xmin, ymax, xmax = box\n",
        "          rs_box.append([xmin * im_width, xmax * im_width, ymin * im_height, ymax * im_height])\n",
        "          drawBoundingBoxes(xmin,ymin,xmax,ymax,0,255,255,2)\n",
        "\n",
        "    m_box = []\n",
        "    for box in milepost_boxes:\n",
        "        ymin, xmin, ymax, xmax = box\n",
        "        m_box.append([xmin * im_width, xmax * im_width, ymin * im_height, ymax * im_height])\n",
        "        drawBoundingBoxes(xmin,ymin,xmax,ymax,0,0,256,2)\n",
        "\n",
        "    \n",
        "    #switch\n",
        "    if(visualize[0] == 1):\n",
        "      for box in sw_box:\n",
        "        ymin, xmin, ymax, xmax = box\n",
        "        y,h,x,w =  np.int64(ymin), np.int64(ymax),np.int64(xmin), np.int64(xmax)\n",
        "        crop_img = image_to_crop[h-10:w+10,y-10:x+10]\n",
        "        plt.figure(figsize=(1,2))\n",
        "        #plt.imshow(crop_img) \n",
        "        for b in m_box:\n",
        "            ymin, xmin, ymax, xmax = b\n",
        "            a,b,c,d = np.int64(ymin), np.int64(ymax),np.int64(xmin), np.int64(xmax)\n",
        "            val = (y+x)/2\n",
        "            mid_milepost_x = np.int64((a+c)/2)\n",
        "            mid_milepost_y = np.int64((b+d)/2)\n",
        "            if(a<val and val<c ):\n",
        "              if(h>b):\n",
        "                cv2.line(image_np, (y,h), (mid_milepost_x,d), (256,100,25), 2)\n",
        "              else:\n",
        "                cv2.line(image_np, (y,w), (mid_milepost_x,b), (256,100,25), 2)\n",
        "              crop_ml = image_to_crop[b-5:d+5,a+5:c-5]\n",
        "              r_img = cv2.rotate(crop_ml, cv2.ROTATE_90_CLOCKWISE)\n",
        "              plt.figure(figsize=(3,6))\n",
        "              if '\\n' in milestone_preprocess(r_img):\n",
        "                milepost.append(milestone_preprocess(r_img).split('\\ ')[4:14])\n",
        "              else:\n",
        "                milepost.append(milestone_preprocess(r_img)[5:14])\n",
        "              s_id.append(switch_preprocess(crop_img))\n",
        "              s_type.append(\"switch\")\n",
        "              #plt.imshow(r_img,cmap='gray') \n",
        "    \n",
        "    if(visualize[1]==1 or visualize[4] == 1): \n",
        "      t_img = cv2.imwrite('color_img.jpg', image_np)\n",
        "      wtt = wabtec_track.WabTecTrack(file_name='color_img.jpg')\n",
        "      tracks = wtt.get_lines()  \n",
        "      for track in tracks:\n",
        "        (x1,y1) = track.point_one()\n",
        "        (x2,y2) = track.point_two()\n",
        "        cv2.rectangle(image_np, (x1-10, y1-10), (x2+10, y2+10), (128, 0, 128), 2)\n",
        "       \n",
        "    #print(category_index)\n",
        "    #print(d_classes)\n",
        "    #print(m_box)\n",
        "    plt.figure(figsize=IMAGE_SIZE)\n",
        "    plt.imshow(image_np)\n",
        "\n",
        "dict = {'type': s_type, 'id':s_id, 'milepost':milepost}\n",
        "df = pd.DataFrame(dict)\n",
        "print(df)\n",
        "# df.to_csv (r'extracted_data.csv', index = False, header=True)\n",
        "# files.download('extracted_data.csv')"
      ],
      "execution_count": 0,
      "outputs": [
        {
          "output_type": "stream",
          "text": [
            "['/content/signal_detection/test/13.jpg']\n",
            "     type      id  milepost\n",
            "0  switch      TS   O. 7098\n",
            "1  switch    —\\n9    0.8072\n",
            "2  switch   —\\n5A        []\n",
            "3  switch   —\\n5A        []\n",
            "4  switch     2 ©        []\n",
            "5  switch       2        []\n",
            "6  switch   9A\\n—    0.8926\n",
            "7  switch  an\\nLi   ©. £672\n",
            "8  switch      Se    0.7884\n"
          ],
          "name": "stdout"
        },
        {
          "output_type": "display_data",
          "data": {
            "text/plain": [
              "<Figure size 72x144 with 0 Axes>"
            ]
          },
          "metadata": {
            "tags": []
          }
        },
        {
          "output_type": "display_data",
          "data": {
            "text/plain": [
              "<Figure size 216x432 with 0 Axes>"
            ]
          },
          "metadata": {
            "tags": []
          }
        },
        {
          "output_type": "display_data",
          "data": {
            "text/plain": [
              "<Figure size 72x144 with 0 Axes>"
            ]
          },
          "metadata": {
            "tags": []
          }
        },
        {
          "output_type": "display_data",
          "data": {
            "text/plain": [
              "<Figure size 216x432 with 0 Axes>"
            ]
          },
          "metadata": {
            "tags": []
          }
        },
        {
          "output_type": "display_data",
          "data": {
            "text/plain": [
              "<Figure size 72x144 with 0 Axes>"
            ]
          },
          "metadata": {
            "tags": []
          }
        },
        {
          "output_type": "display_data",
          "data": {
            "text/plain": [
              "<Figure size 216x432 with 0 Axes>"
            ]
          },
          "metadata": {
            "tags": []
          }
        },
        {
          "output_type": "display_data",
          "data": {
            "text/plain": [
              "<Figure size 216x432 with 0 Axes>"
            ]
          },
          "metadata": {
            "tags": []
          }
        },
        {
          "output_type": "display_data",
          "data": {
            "text/plain": [
              "<Figure size 72x144 with 0 Axes>"
            ]
          },
          "metadata": {
            "tags": []
          }
        },
        {
          "output_type": "display_data",
          "data": {
            "text/plain": [
              "<Figure size 216x432 with 0 Axes>"
            ]
          },
          "metadata": {
            "tags": []
          }
        },
        {
          "output_type": "display_data",
          "data": {
            "text/plain": [
              "<Figure size 72x144 with 0 Axes>"
            ]
          },
          "metadata": {
            "tags": []
          }
        },
        {
          "output_type": "display_data",
          "data": {
            "text/plain": [
              "<Figure size 216x432 with 0 Axes>"
            ]
          },
          "metadata": {
            "tags": []
          }
        },
        {
          "output_type": "display_data",
          "data": {
            "text/plain": [
              "<Figure size 72x144 with 0 Axes>"
            ]
          },
          "metadata": {
            "tags": []
          }
        },
        {
          "output_type": "display_data",
          "data": {
            "text/plain": [
              "<Figure size 216x432 with 0 Axes>"
            ]
          },
          "metadata": {
            "tags": []
          }
        },
        {
          "output_type": "display_data",
          "data": {
            "text/plain": [
              "<Figure size 72x144 with 0 Axes>"
            ]
          },
          "metadata": {
            "tags": []
          }
        },
        {
          "output_type": "display_data",
          "data": {
            "text/plain": [
              "<Figure size 216x432 with 0 Axes>"
            ]
          },
          "metadata": {
            "tags": []
          }
        },
        {
          "output_type": "display_data",
          "data": {
            "text/plain": [
              "<Figure size 72x144 with 0 Axes>"
            ]
          },
          "metadata": {
            "tags": []
          }
        },
        {
          "output_type": "display_data",
          "data": {
            "text/plain": [
              "<Figure size 216x432 with 0 Axes>"
            ]
          },
          "metadata": {
            "tags": []
          }
        },
        {
          "output_type": "display_data",
          "data": {
            "image/png": "[encoded data removed]",
            "text/plain": [
              "<Figure size 864x576 with 1 Axes>"
            ]
          },
          "metadata": {
            "tags": []
          }
        }
      ]
    },
    {
      "cell_type": "code",
      "metadata": {
        "id": "L1_aMmmw2xJ_",
        "colab_type": "code",
        "colab": {}
      },
      "source": [
        ""
      ],
      "execution_count": 0,
      "outputs": []
    }
  ]
}